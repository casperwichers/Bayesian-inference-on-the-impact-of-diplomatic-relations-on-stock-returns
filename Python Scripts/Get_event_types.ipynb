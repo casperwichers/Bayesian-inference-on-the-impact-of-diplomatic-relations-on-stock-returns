{
 "cells": [
  {
   "cell_type": "code",
   "execution_count": 1,
   "metadata": {},
   "outputs": [],
   "source": [
    "import pandas as pd\n",
    "import csv"
   ]
  },
  {
   "cell_type": "code",
   "execution_count": 2,
   "metadata": {},
   "outputs": [
    {
     "name": "stderr",
     "output_type": "stream",
     "text": [
      "/Users/casper/opt/anaconda3/lib/python3.8/site-packages/IPython/core/interactiveshell.py:3146: DtypeWarning: Columns (6) have mixed types.Specify dtype option on import or set low_memory=False.\n",
      "  has_raised = await self.run_ast_nodes(code_ast.body, cell_name,\n"
     ]
    }
   ],
   "source": [
    "data = pd.read_csv(\"data_filtered.csv\")"
   ]
  },
  {
   "cell_type": "code",
   "execution_count": 6,
   "metadata": {},
   "outputs": [
    {
     "data": {
      "text/plain": [
       "10383615"
      ]
     },
     "execution_count": 6,
     "metadata": {},
     "output_type": "execute_result"
    }
   ],
   "source": [
    "data.head()\n",
    "len(data)"
   ]
  },
  {
   "cell_type": "code",
   "execution_count": 25,
   "metadata": {},
   "outputs": [
    {
     "name": "stdout",
     "output_type": "stream",
     "text": [
      "<class 'pandas.core.frame.DataFrame'>\n"
     ]
    },
    {
     "data": {
      "text/html": [
       "<div>\n",
       "<style scoped>\n",
       "    .dataframe tbody tr th:only-of-type {\n",
       "        vertical-align: middle;\n",
       "    }\n",
       "\n",
       "    .dataframe tbody tr th {\n",
       "        vertical-align: top;\n",
       "    }\n",
       "\n",
       "    .dataframe thead th {\n",
       "        text-align: right;\n",
       "    }\n",
       "</style>\n",
       "<table border=\"1\" class=\"dataframe\">\n",
       "  <thead>\n",
       "    <tr style=\"text-align: right;\">\n",
       "      <th></th>\n",
       "      <th>Event.Text</th>\n",
       "      <th>CAMEO.Code</th>\n",
       "    </tr>\n",
       "  </thead>\n",
       "  <tbody>\n",
       "    <tr>\n",
       "      <th>0</th>\n",
       "      <td>Sign formal agreement</td>\n",
       "      <td>57</td>\n",
       "    </tr>\n",
       "    <tr>\n",
       "      <th>1</th>\n",
       "      <td>Sign formal agreement</td>\n",
       "      <td>57</td>\n",
       "    </tr>\n",
       "    <tr>\n",
       "      <th>2</th>\n",
       "      <td>Impose embargo, boycott, or sanctions</td>\n",
       "      <td>163</td>\n",
       "    </tr>\n",
       "    <tr>\n",
       "      <th>3</th>\n",
       "      <td>Criticize or denounce</td>\n",
       "      <td>111</td>\n",
       "    </tr>\n",
       "    <tr>\n",
       "      <th>4</th>\n",
       "      <td>Criticize or denounce</td>\n",
       "      <td>111</td>\n",
       "    </tr>\n",
       "    <tr>\n",
       "      <th>...</th>\n",
       "      <td>...</td>\n",
       "      <td>...</td>\n",
       "    </tr>\n",
       "    <tr>\n",
       "      <th>10383610</th>\n",
       "      <td>Accuse</td>\n",
       "      <td>112</td>\n",
       "    </tr>\n",
       "    <tr>\n",
       "      <th>10383611</th>\n",
       "      <td>Praise or endorse</td>\n",
       "      <td>51</td>\n",
       "    </tr>\n",
       "    <tr>\n",
       "      <th>10383612</th>\n",
       "      <td>Demonstrate or rally</td>\n",
       "      <td>141</td>\n",
       "    </tr>\n",
       "    <tr>\n",
       "      <th>10383613</th>\n",
       "      <td>Make pessimistic comment</td>\n",
       "      <td>12</td>\n",
       "    </tr>\n",
       "    <tr>\n",
       "      <th>10383614</th>\n",
       "      <td>Make statement</td>\n",
       "      <td>10</td>\n",
       "    </tr>\n",
       "  </tbody>\n",
       "</table>\n",
       "<p>10383615 rows × 2 columns</p>\n",
       "</div>"
      ],
      "text/plain": [
       "                                     Event.Text CAMEO.Code\n",
       "0                         Sign formal agreement         57\n",
       "1                         Sign formal agreement         57\n",
       "2         Impose embargo, boycott, or sanctions        163\n",
       "3                         Criticize or denounce        111\n",
       "4                         Criticize or denounce        111\n",
       "...                                         ...        ...\n",
       "10383610                                 Accuse        112\n",
       "10383611                      Praise or endorse         51\n",
       "10383612                   Demonstrate or rally        141\n",
       "10383613               Make pessimistic comment         12\n",
       "10383614                         Make statement         10\n",
       "\n",
       "[10383615 rows x 2 columns]"
      ]
     },
     "execution_count": 25,
     "metadata": {},
     "output_type": "execute_result"
    }
   ],
   "source": [
    "types = data[['Event.Text', 'CAMEO.Code']]\n",
    "#types = types.drop_duplicates()\n",
    "print(type(types))\n",
    "types"
   ]
  },
  {
   "cell_type": "code",
   "execution_count": 8,
   "metadata": {},
   "outputs": [
    {
     "data": {
      "text/plain": [
       "Consult                                            1440923\n",
       "Host a visit                                       1039726\n",
       "Make a visit                                       1039704\n",
       "Make statement                                      995053\n",
       "Express intent to meet or negotiate                 955420\n",
       "                                                    ...   \n",
       "Express intent to ease popular dissent                   3\n",
       "Demonstrate for rights                                   3\n",
       "Conduct strike or boycott for leadership change          2\n",
       "Conduct hunger strike for leadership change              1\n",
       "Obstruct passage to demand leadership change             1\n",
       "Name: Event.Text, Length: 269, dtype: int64"
      ]
     },
     "execution_count": 8,
     "metadata": {},
     "output_type": "execute_result"
    }
   ],
   "source": [
    "counts = types['Event.Text'].value_counts()\n",
    "counts\n",
    "#print(type(counts))"
   ]
  },
  {
   "cell_type": "code",
   "execution_count": 9,
   "metadata": {},
   "outputs": [
    {
     "name": "stdout",
     "output_type": "stream",
     "text": [
      "<class 'pandas.core.frame.DataFrame'>\n"
     ]
    },
    {
     "data": {
      "text/html": [
       "<div>\n",
       "<style scoped>\n",
       "    .dataframe tbody tr th:only-of-type {\n",
       "        vertical-align: middle;\n",
       "    }\n",
       "\n",
       "    .dataframe tbody tr th {\n",
       "        vertical-align: top;\n",
       "    }\n",
       "\n",
       "    .dataframe thead th {\n",
       "        text-align: right;\n",
       "    }\n",
       "</style>\n",
       "<table border=\"1\" class=\"dataframe\">\n",
       "  <thead>\n",
       "    <tr style=\"text-align: right;\">\n",
       "      <th></th>\n",
       "      <th>Event.Text</th>\n",
       "      <th>Count</th>\n",
       "    </tr>\n",
       "  </thead>\n",
       "  <tbody>\n",
       "    <tr>\n",
       "      <th>0</th>\n",
       "      <td>Consult</td>\n",
       "      <td>1440923</td>\n",
       "    </tr>\n",
       "    <tr>\n",
       "      <th>1</th>\n",
       "      <td>Host a visit</td>\n",
       "      <td>1039726</td>\n",
       "    </tr>\n",
       "    <tr>\n",
       "      <th>2</th>\n",
       "      <td>Make a visit</td>\n",
       "      <td>1039704</td>\n",
       "    </tr>\n",
       "    <tr>\n",
       "      <th>3</th>\n",
       "      <td>Make statement</td>\n",
       "      <td>995053</td>\n",
       "    </tr>\n",
       "    <tr>\n",
       "      <th>4</th>\n",
       "      <td>Express intent to meet or negotiate</td>\n",
       "      <td>955420</td>\n",
       "    </tr>\n",
       "    <tr>\n",
       "      <th>...</th>\n",
       "      <td>...</td>\n",
       "      <td>...</td>\n",
       "    </tr>\n",
       "    <tr>\n",
       "      <th>264</th>\n",
       "      <td>Express intent to ease popular dissent</td>\n",
       "      <td>3</td>\n",
       "    </tr>\n",
       "    <tr>\n",
       "      <th>265</th>\n",
       "      <td>Demonstrate for rights</td>\n",
       "      <td>3</td>\n",
       "    </tr>\n",
       "    <tr>\n",
       "      <th>266</th>\n",
       "      <td>Conduct strike or boycott for leadership change</td>\n",
       "      <td>2</td>\n",
       "    </tr>\n",
       "    <tr>\n",
       "      <th>267</th>\n",
       "      <td>Conduct hunger strike for leadership change</td>\n",
       "      <td>1</td>\n",
       "    </tr>\n",
       "    <tr>\n",
       "      <th>268</th>\n",
       "      <td>Obstruct passage to demand leadership change</td>\n",
       "      <td>1</td>\n",
       "    </tr>\n",
       "  </tbody>\n",
       "</table>\n",
       "<p>269 rows × 2 columns</p>\n",
       "</div>"
      ],
      "text/plain": [
       "                                          Event.Text    Count\n",
       "0                                            Consult  1440923\n",
       "1                                       Host a visit  1039726\n",
       "2                                       Make a visit  1039704\n",
       "3                                     Make statement   995053\n",
       "4                Express intent to meet or negotiate   955420\n",
       "..                                               ...      ...\n",
       "264           Express intent to ease popular dissent        3\n",
       "265                           Demonstrate for rights        3\n",
       "266  Conduct strike or boycott for leadership change        2\n",
       "267      Conduct hunger strike for leadership change        1\n",
       "268     Obstruct passage to demand leadership change        1\n",
       "\n",
       "[269 rows x 2 columns]"
      ]
     },
     "execution_count": 9,
     "metadata": {},
     "output_type": "execute_result"
    }
   ],
   "source": [
    "df = counts.to_frame()\n",
    "print(type(df))\n",
    "df = df.reset_index()\n",
    "df.columns = ['Event.Text','Count']\n",
    "df"
   ]
  },
  {
   "cell_type": "code",
   "execution_count": 10,
   "metadata": {},
   "outputs": [
    {
     "data": {
      "text/plain": [
       "10383615"
      ]
     },
     "execution_count": 10,
     "metadata": {},
     "output_type": "execute_result"
    }
   ],
   "source": [
    "sum(df[\"Count\"])"
   ]
  },
  {
   "cell_type": "code",
   "execution_count": 28,
   "metadata": {},
   "outputs": [],
   "source": [
    "types\n",
    "types = types.drop_duplicates()\n",
    "\n",
    "types.to_csv('types.csv')\n",
    "\n",
    "#types.unique()"
   ]
  },
  {
   "cell_type": "code",
   "execution_count": 30,
   "metadata": {},
   "outputs": [
    {
     "data": {
      "text/html": [
       "<div>\n",
       "<style scoped>\n",
       "    .dataframe tbody tr th:only-of-type {\n",
       "        vertical-align: middle;\n",
       "    }\n",
       "\n",
       "    .dataframe tbody tr th {\n",
       "        vertical-align: top;\n",
       "    }\n",
       "\n",
       "    .dataframe thead th {\n",
       "        text-align: right;\n",
       "    }\n",
       "</style>\n",
       "<table border=\"1\" class=\"dataframe\">\n",
       "  <thead>\n",
       "    <tr style=\"text-align: right;\">\n",
       "      <th></th>\n",
       "      <th>Event.Text</th>\n",
       "      <th>CAMEO.Code</th>\n",
       "    </tr>\n",
       "  </thead>\n",
       "  <tbody>\n",
       "    <tr>\n",
       "      <th>0</th>\n",
       "      <td>Sign formal agreement</td>\n",
       "      <td>57</td>\n",
       "    </tr>\n",
       "    <tr>\n",
       "      <th>2</th>\n",
       "      <td>Impose embargo, boycott, or sanctions</td>\n",
       "      <td>163</td>\n",
       "    </tr>\n",
       "    <tr>\n",
       "      <th>3</th>\n",
       "      <td>Criticize or denounce</td>\n",
       "      <td>111</td>\n",
       "    </tr>\n",
       "    <tr>\n",
       "      <th>5</th>\n",
       "      <td>Grant diplomatic recognition</td>\n",
       "      <td>54</td>\n",
       "    </tr>\n",
       "    <tr>\n",
       "      <th>6</th>\n",
       "      <td>Accuse</td>\n",
       "      <td>112</td>\n",
       "    </tr>\n",
       "    <tr>\n",
       "      <th>...</th>\n",
       "      <td>...</td>\n",
       "      <td>...</td>\n",
       "    </tr>\n",
       "    <tr>\n",
       "      <th>9455110</th>\n",
       "      <td>Accede to demands for change in institutions, ...</td>\n",
       "      <td>0834</td>\n",
       "    </tr>\n",
       "    <tr>\n",
       "      <th>9456262</th>\n",
       "      <td>Violate ceasefire</td>\n",
       "      <td>196</td>\n",
       "    </tr>\n",
       "    <tr>\n",
       "      <th>9459252</th>\n",
       "      <td>Demand humanitarian aid</td>\n",
       "      <td>1033</td>\n",
       "    </tr>\n",
       "    <tr>\n",
       "      <th>9460440</th>\n",
       "      <td>Engage in mass killings</td>\n",
       "      <td>202</td>\n",
       "    </tr>\n",
       "    <tr>\n",
       "      <th>9467099</th>\n",
       "      <td>Express intent to institute political reform</td>\n",
       "      <td>034</td>\n",
       "    </tr>\n",
       "  </tbody>\n",
       "</table>\n",
       "<p>487 rows × 2 columns</p>\n",
       "</div>"
      ],
      "text/plain": [
       "                                                Event.Text CAMEO.Code\n",
       "0                                    Sign formal agreement         57\n",
       "2                    Impose embargo, boycott, or sanctions        163\n",
       "3                                    Criticize or denounce        111\n",
       "5                             Grant diplomatic recognition         54\n",
       "6                                                   Accuse        112\n",
       "...                                                    ...        ...\n",
       "9455110  Accede to demands for change in institutions, ...       0834\n",
       "9456262                                  Violate ceasefire        196\n",
       "9459252                            Demand humanitarian aid       1033\n",
       "9460440                            Engage in mass killings        202\n",
       "9467099       Express intent to institute political reform        034\n",
       "\n",
       "[487 rows x 2 columns]"
      ]
     },
     "execution_count": 30,
     "metadata": {},
     "output_type": "execute_result"
    }
   ],
   "source": [
    "types.drop_duplicates()\n",
    "types\n",
    "\n"
   ]
  },
  {
   "cell_type": "code",
   "execution_count": 39,
   "metadata": {},
   "outputs": [
    {
     "name": "stdout",
     "output_type": "stream",
     "text": [
      "269\n",
      "269\n",
      "481\n"
     ]
    }
   ],
   "source": [
    "print(df['Event.Text'].nunique())\n",
    "print(types['Event.Text'].nunique())\n",
    "print(types['CAMEO.Code'].nunique())\n",
    "\n"
   ]
  },
  {
   "cell_type": "code",
   "execution_count": 40,
   "metadata": {},
   "outputs": [
    {
     "name": "stdout",
     "output_type": "stream",
     "text": [
      "269\n"
     ]
    }
   ],
   "source": [
    "types2 = types.drop_duplicates(subset='Event.Text', keep=\"first\")\n",
    "print(types2['CAMEO.Code'].nunique())\n"
   ]
  },
  {
   "cell_type": "code",
   "execution_count": 41,
   "metadata": {},
   "outputs": [],
   "source": [
    "x = pd.merge(df,types2,on=\"Event.Text\")\n",
    "x\n",
    "x.to_csv('events_count_cameo.csv')"
   ]
  },
  {
   "cell_type": "code",
   "execution_count": 43,
   "metadata": {},
   "outputs": [],
   "source": [
    "df2 = pd.DataFrame(data, columns=['Event.Text', 'Intensity'])\n",
    "events_averages = df2.groupby('Event.Text').mean().reset_index()\n",
    "\n",
    "events_averages.to_csv('events_averages.csv')"
   ]
  }
 ],
 "metadata": {
  "kernelspec": {
   "display_name": "Python 3",
   "language": "python",
   "name": "python3"
  },
  "language_info": {
   "codemirror_mode": {
    "name": "ipython",
    "version": 3
   },
   "file_extension": ".py",
   "mimetype": "text/x-python",
   "name": "python",
   "nbconvert_exporter": "python",
   "pygments_lexer": "ipython3",
   "version": "3.8.5"
  }
 },
 "nbformat": 4,
 "nbformat_minor": 4
}
